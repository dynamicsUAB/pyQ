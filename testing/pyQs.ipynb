{
 "cells": [
  {
   "cell_type": "code",
   "execution_count": 3,
   "metadata": {},
   "outputs": [],
   "source": [
    "import subprocess as sp\n",
    "import yaml\n",
    "import os, signal\n",
    "import shutil\n",
    "\n",
    "from random import choice\n",
    "from time import sleep\n",
    "\n",
    "import psutil\n",
    "import GPUtil\n",
    "\n",
    "from lastjobid import lastid\n"
   ]
  },
  {
   "cell_type": "code",
   "execution_count": 28,
   "metadata": {},
   "outputs": [],
   "source": [
    "class SendJob:\n",
    "\n",
    "    def __init__(self, args):\n",
    "        self.mode   = 'script'\n",
    "        self.script = args[1]\n",
    "        self.args   = None\n",
    "        self.config = {\n",
    "            'jobid'     : None,\n",
    "            'jobname'   : None,\n",
    "            'gpus'      : None,\n",
    "            #'cores'     : None,\n",
    "            #'timelimit' : None,\n",
    "            #'copy'      : None,\n",
    "            'submitdir' : os.getcwd(),\n",
    "            'outdir'    : None,\n",
    "            'stdout'    : None,\n",
    "            'stderr'    : None,\n",
    "            'command'   : [], #None,\n",
    "            'step'      : -1,\n",
    "            'pid'       : None,\n",
    "            'status'    : None\n",
    "        }\n",
    "\n",
    "\n",
    "\n",
    "    def configuration(self):\n",
    "        if self.mode == 'script':\n",
    "            script_file = open(self.script, 'r').readlines()\n",
    "\n",
    "            for line in script_file:\n",
    "                if line[:4] == '#pyQ':\n",
    "                    line_ = line.split()\n",
    "\n",
    "                    if line_[1] in ('-j', '--jobname'):\n",
    "                        self.config['jobname'] = line_[2]\n",
    "                    \n",
    "                    if line_[1] in ('-g', '--gpus'):\n",
    "                        self.config['gpus'] = line_[2]\n",
    "\n",
    "                    #if line_[1] in ('-c', '--cores'):\n",
    "                    #    self.config['cores'] = line_[2]\n",
    "\n",
    "                    #if line_[1] in ('-t', '--timelimit'):\n",
    "                        self.config['timelimit'] = line_[2]\n",
    "\n",
    "                    #if line_[1] in ('-cp', '--copy'):\n",
    "                    #    self.config['copy'] = line_[2]\n",
    "\n",
    "                    if line_[1] in ('-o', '--out_dir'):\n",
    "                        if line_[1][0] == '/':\n",
    "                            self.config['outdir'] = line_[2]\n",
    "                        else :\n",
    "                            self.config['outdir'] = self.config['submitdir'] + '/' + line_[2]\n",
    "\n",
    "                elif line != '\\n' :\n",
    "                #    if self.config['command'] == None:\n",
    "                #        self.config['command'] = str(line[:-1])\n",
    "                #    else :\n",
    "                #        self.config['command'] = self.config['command'] + '; ' + str(line[:-1])\n",
    "                    self.config['command'].append(line[:-1])\n",
    "                \n",
    "                \n",
    "            self.config['jobid']  = str(lastid+1)\n",
    "            \n",
    "            self.config['stdout'] = self.config['submitdir'] + '/' + self.config['jobname'] + '.' + self.config['jobid'] + '.out'\n",
    "            self.config['stderr'] = self.config['submitdir'] + '/' + self.config['jobname'] + '.' + self.config['jobid'] + '.err'\n",
    "\n",
    "            self.config['status'] = 'sent'\n",
    "\n",
    "            self.config['step']   = -1\n",
    "\n",
    "\n",
    "            return self.config\n",
    "\n",
    "\n",
    "    #def execute_job(self):\n",
    "\n",
    "    #    stdout = open(self.config['stdout'], 'w')\n",
    "    #    stderr = open(self.config['stderr'], 'w')\n",
    "\n",
    "\n",
    "        \n",
    "\n",
    "\n",
    "        "
   ]
  },
  {
   "cell_type": "code",
   "execution_count": 29,
   "metadata": {},
   "outputs": [
    {
     "data": {
      "text/plain": [
       "{'jobid': '1',\n",
       " 'jobname': 'test',\n",
       " 'gpus': '1',\n",
       " 'submitdir': '/home/mcanyelles/git/pyQ/testing',\n",
       " 'outdir': '/home/mcanyelles/git/pyQ/testing/out',\n",
       " 'stdout': '/home/mcanyelles/git/pyQ/testing/test.1.out',\n",
       " 'stderr': '/home/mcanyelles/git/pyQ/testing/test.1.err',\n",
       " 'command': ['pmemd.cuda -O -ref example/humALOX15B_ACD_hf_solv.inpcrd -p example/humALOX15B_ACD_hf_solv.prmtop -c example/humALOX15B_ACD_hf_solv.inpcrd -i example/1_min_1.in -o example/1_min_1.mdout -inf example/1_min_1.mdinf -r example/1_min_1.rst',\n",
       "  'pmemd.cuda -O -ref example/humALOX15B_ACD_hf_solv.inpcrd -p example/humALOX15B_ACD_hf_solv.prmtop -c example/1_min_1.rst -i example/1_min_2.in -o example/1_min_2.mdout -inf example/1_min_2.mdinf -r example/1_min_2.rst'],\n",
       " 'step': -1,\n",
       " 'pid': None,\n",
       " 'status': 'sent',\n",
       " 'timelimit': '1'}"
      ]
     },
     "execution_count": 29,
     "metadata": {},
     "output_type": "execute_result"
    }
   ],
   "source": [
    "job = SendJob([None, 'script.pyq'])\n",
    "job.configuration()\n",
    "job.config"
   ]
  },
  {
   "cell_type": "code",
   "execution_count": null,
   "metadata": {},
   "outputs": [],
   "source": [
    "stdout = open(os.getcwd()+'/test.stdout', 'a')\n",
    "stderr = open(os.getcwd()+'/test.stderr', 'a')\n",
    "pwd = os.getcwd()\n",
    "os.chdir('/home/mcanyelles/Calculations/AmberMD_example/preprod')\n",
    "exec1 = sp.Popen([\"export CUDA_VISIBLE_DEVICES=0; \" + job.config['command'][0]], shell=True, stdout=stdout, stderr=stderr)#, capture_output=True)\n",
    "os.chdir(pwd)\n",
    "exec1"
   ]
  },
  {
   "cell_type": "code",
   "execution_count": 110,
   "metadata": {},
   "outputs": [],
   "source": [
    "os.chdir('/home/mcanyelles/git/pyQ/testing')"
   ]
  },
  {
   "cell_type": "code",
   "execution_count": 73,
   "metadata": {},
   "outputs": [
    {
     "data": {
      "text/plain": [
       "<Popen: returncode: None args: ['export CUDA_VISIBLE_DEVICES=0; pmemd.cuda -...>"
      ]
     },
     "execution_count": 73,
     "metadata": {},
     "output_type": "execute_result"
    }
   ],
   "source": [
    "stdout = open(os.getcwd()+'/test.stdout', 'a')\n",
    "stderr = open(os.getcwd()+'/test.stderr', 'a')\n",
    "pwd = os.getcwd()\n",
    "os.chdir('/home/mcanyelles/Calculations/AmberMD_example/preprod')\n",
    "exec1 = sp.Popen([\"export CUDA_VISIBLE_DEVICES=0; \" + job.config['command'][0]], shell=True, stdout=stdout, stderr=stderr)#, capture_output=True)\n",
    "os.chdir(pwd)\n",
    "exec1"
   ]
  },
  {
   "cell_type": "code",
   "execution_count": 76,
   "metadata": {},
   "outputs": [
    {
     "data": {
      "text/plain": [
       "35601"
      ]
     },
     "execution_count": 76,
     "metadata": {},
     "output_type": "execute_result"
    }
   ],
   "source": [
    "pid = exec2.pid\n",
    "pid"
   ]
  },
  {
   "cell_type": "code",
   "execution_count": 72,
   "metadata": {},
   "outputs": [],
   "source": [
    "os.kill(pid+1, signal.SIGSTOP)"
   ]
  },
  {
   "cell_type": "code",
   "execution_count": 84,
   "metadata": {},
   "outputs": [
    {
     "data": {
      "text/plain": [
       "True"
      ]
     },
     "execution_count": 84,
     "metadata": {},
     "output_type": "execute_result"
    }
   ],
   "source": [
    "41874 in psutil.pids()"
   ]
  },
  {
   "cell_type": "code",
   "execution_count": 103,
   "metadata": {},
   "outputs": [
    {
     "data": {
      "text/plain": [
       "0"
      ]
     },
     "execution_count": 103,
     "metadata": {},
     "output_type": "execute_result"
    }
   ],
   "source": [
    "choice([0,1])"
   ]
  },
  {
   "cell_type": "code",
   "execution_count": null,
   "metadata": {},
   "outputs": [],
   "source": [
    "db = {\n",
    "    0 : {\n",
    "        'jobid': '1',\n",
    "        'jobname': 'test',\n",
    "        'gpus': '1',\n",
    "        'submitdir': '/home/mcanyelles/git/pyQ/testing',\n",
    "        'stdout': '/home/mcanyelles/git/pyQ/testing/test.1.out',\n",
    "        'stderr': '/home/mcanyelles/git/pyQ/testing/test.1.err',\n",
    "        'command': ['pmemd.cuda -O -ref humALOX15B_ACD_hf_solv.inpcrd -p humALOX15B_ACD_hf_solv.prmtop -c humALOX15B_ACD_hf_solv.inpcrd -i 1_min_1.in -o 1_min_1.mdout -inf 1_min_1.mdinf -r 1_min_1.rst',\n",
    "        'pmemd.cuda -O -ref humALOX15B_ACD_hf_solv.inpcrd -p humALOX15B_ACD_hf_solv.prmtop -c 1_min_1.rst -i 1_min_2.in -o 1_min_2.mdout -inf 1_min_2.mdinf -r 1_min_2.rst'],\n",
    "        'step' : -1,\n",
    "        'pid': None,\n",
    "        'status': 'send',\n",
    "        'timelimit': '1'\n",
    "    }\n",
    "}"
   ]
  },
  {
   "cell_type": "code",
   "execution_count": 30,
   "metadata": {},
   "outputs": [
    {
     "data": {
      "text/plain": [
       "{1: {'jobid': '1',\n",
       "  'jobname': 'test',\n",
       "  'gpus': '1',\n",
       "  'submitdir': '/home/mcanyelles/git/pyQ/testing',\n",
       "  'outdir': '/home/mcanyelles/git/pyQ/testing/out',\n",
       "  'stdout': '/home/mcanyelles/git/pyQ/testing/test.1.out',\n",
       "  'stderr': '/home/mcanyelles/git/pyQ/testing/test.1.err',\n",
       "  'command': ['pmemd.cuda -O -ref example/humALOX15B_ACD_hf_solv.inpcrd -p example/humALOX15B_ACD_hf_solv.prmtop -c example/humALOX15B_ACD_hf_solv.inpcrd -i example/1_min_1.in -o example/1_min_1.mdout -inf example/1_min_1.mdinf -r example/1_min_1.rst',\n",
       "   'pmemd.cuda -O -ref example/humALOX15B_ACD_hf_solv.inpcrd -p example/humALOX15B_ACD_hf_solv.prmtop -c example/1_min_1.rst -i example/1_min_2.in -o example/1_min_2.mdout -inf example/1_min_2.mdinf -r example/1_min_2.rst'],\n",
       "  'step': -1,\n",
       "  'pid': None,\n",
       "  'status': 'sent',\n",
       "  'timelimit': '1'}}"
      ]
     },
     "execution_count": 30,
     "metadata": {},
     "output_type": "execute_result"
    }
   ],
   "source": [
    "db = {\n",
    "    1 : job.config\n",
    "}\n",
    "\n",
    "db"
   ]
  },
  {
   "cell_type": "code",
   "execution_count": 31,
   "metadata": {},
   "outputs": [
    {
     "data": {
      "text/plain": [
       "[{'jobid': '1',\n",
       "  'jobname': 'test',\n",
       "  'gpus': '1',\n",
       "  'submitdir': '/home/mcanyelles/git/pyQ/testing',\n",
       "  'outdir': '/home/mcanyelles/git/pyQ/testing/out',\n",
       "  'stdout': '/home/mcanyelles/git/pyQ/testing/test.1.out',\n",
       "  'stderr': '/home/mcanyelles/git/pyQ/testing/test.1.err',\n",
       "  'command': ['pmemd.cuda -O -ref example/humALOX15B_ACD_hf_solv.inpcrd -p example/humALOX15B_ACD_hf_solv.prmtop -c example/humALOX15B_ACD_hf_solv.inpcrd -i example/1_min_1.in -o example/1_min_1.mdout -inf example/1_min_1.mdinf -r example/1_min_1.rst',\n",
       "   'pmemd.cuda -O -ref example/humALOX15B_ACD_hf_solv.inpcrd -p example/humALOX15B_ACD_hf_solv.prmtop -c example/1_min_1.rst -i example/1_min_2.in -o example/1_min_2.mdout -inf example/1_min_2.mdinf -r example/1_min_2.rst'],\n",
       "  'step': -1,\n",
       "  'pid': None,\n",
       "  'status': 'sent',\n",
       "  'timelimit': '1'}]"
      ]
     },
     "execution_count": 31,
     "metadata": {},
     "output_type": "execute_result"
    }
   ],
   "source": [
    "list_to_send = [\n",
    "    db[1]\n",
    "]\n",
    "\n",
    "list_to_send"
   ]
  },
  {
   "cell_type": "code",
   "execution_count": 35,
   "metadata": {},
   "outputs": [],
   "source": [
    "def free_GPU_index(only_one=True, randomise=True): \n",
    "    # only_one = False => for returning list of free GPUs instead of one index (even when more than one GPU is free). \n",
    "    #                       If False, return is a list of available GPUs ID's (even if there is only one GPU free) or None\n",
    "    # ranomise = True  => returns a random-chosen gpuID if more than one is available (so usage is distributed)\n",
    "    \n",
    "    gpus_available = GPUtil.getAvailability(GPUtil.getGPUs())\n",
    "    \n",
    "    if all(gpu_av == 0 for gpu_av in gpus_available):\n",
    "        return None\n",
    "\n",
    "    elif any(gpu_av == 1 for gpu_av in gpus_available):\n",
    "\n",
    "        if gpus_available.count(1) == 1: # choose the only avilable one\n",
    "            if only_one == True:\n",
    "                return gpus_available.index(1)\n",
    "            elif only_one == False:\n",
    "                return [gpus_available.index(1)]\n",
    "\n",
    "        elif gpus_available.count(1) > 1:  # choose within available\n",
    "            if only_one == True:\n",
    "                if randomise == True:\n",
    "                    return choice([g for g,av in enumerate(gpus_available) if av==1])\n",
    "                elif randomise == False:\n",
    "                    return gpus_available.index(1)\n",
    "\n",
    "            elif only_one == False:\n",
    "                return gpus_available\n",
    "                \n",
    "\n",
    "        "
   ]
  },
  {
   "cell_type": "code",
   "execution_count": 39,
   "metadata": {},
   "outputs": [],
   "source": [
    "def execute_command(command, gpuID, stdout=sp.PIPE, stderr=sp.PIPE):\n",
    "        \n",
    "        #stdout = open(config['stdout'], 'w')\n",
    "        #stderr = open(config['stderr'], 'w')\n",
    "\n",
    "        exec = sp.Popen([f\"export CUDA_VISIBLE_DEVICES={gpuID}; \" + command], shell=True, stdout=stdout, stderr=stderr)\n",
    "        pid = exec.pid\n",
    "        \n",
    "        return pid+1\n"
   ]
  },
  {
   "cell_type": "code",
   "execution_count": 44,
   "metadata": {},
   "outputs": [],
   "source": [
    "def start_job(db, to_send):\n",
    "\n",
    "    # Check free GPU(s)\n",
    "    gpuID = free_GPU_index(only_one=True, randomise=True)\n",
    "    if gpuID == None:\n",
    "        return None\n",
    "\n",
    "    else :\n",
    "        config = db[int(to_send['jobid'])]\n",
    "\n",
    "\n",
    "    stdout = open(config['stdout'], 'w')\n",
    "    stderr = open(config['stderr'], 'w')\n",
    "\n",
    "    for c in config['command'][:1]:\n",
    "\n",
    "        #exec = sp.Popen([f\"export CUDA_VISIBLE_DEVICES={gpuID}; \" + config['command']], shell=True, stdout=stdout, stderr=stderr)\n",
    "        #pid = exec.pid\n",
    "        #print(pid+1)\n",
    "        pid = execute_command(c, gpuID, stderr=stderr, stdout=stdout)\n",
    "        print(pid)\n",
    "\n"
   ]
  },
  {
   "cell_type": "code",
   "execution_count": null,
   "metadata": {},
   "outputs": [],
   "source": []
  },
  {
   "cell_type": "code",
   "execution_count": 45,
   "metadata": {},
   "outputs": [
    {
     "name": "stdout",
     "output_type": "stream",
     "text": [
      "127170\n"
     ]
    }
   ],
   "source": [
    "to_send = list_to_send[0]\n",
    "\n",
    "start_job(db, to_send)"
   ]
  },
  {
   "cell_type": "code",
   "execution_count": null,
   "metadata": {},
   "outputs": [],
   "source": []
  }
 ],
 "metadata": {
  "interpreter": {
   "hash": "b07032e10c97ea136822ea0ebb3a0d714e114836da9aee480b30d6177063bdfe"
  },
  "kernelspec": {
   "display_name": "Python 3.9.12 ('pyQ')",
   "language": "python",
   "name": "python3"
  },
  "language_info": {
   "codemirror_mode": {
    "name": "ipython",
    "version": 3
   },
   "file_extension": ".py",
   "mimetype": "text/x-python",
   "name": "python",
   "nbconvert_exporter": "python",
   "pygments_lexer": "ipython3",
   "version": "3.9.12"
  },
  "orig_nbformat": 4
 },
 "nbformat": 4,
 "nbformat_minor": 2
}
